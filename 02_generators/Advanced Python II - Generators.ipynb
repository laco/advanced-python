{
 "cells": [
  {
   "cell_type": "markdown",
   "metadata": {},
   "source": [
    "# Generators\n",
    "## Generator functions (yield... )\n",
    "## Generator expressions"
   ]
  },
  {
   "cell_type": "code",
   "execution_count": 1,
   "metadata": {
    "collapsed": false
   },
   "outputs": [
    {
     "data": {
      "text/plain": [
       "<generator object <genexpr> at 0x10feabee8>"
      ]
     },
     "execution_count": 1,
     "metadata": {},
     "output_type": "execute_result"
    }
   ],
   "source": [
    "a = [1,2,3,4]\n",
    "b = (i*i for i in a)\n",
    "b"
   ]
  },
  {
   "cell_type": "markdown",
   "metadata": {},
   "source": [
    "## General Syntax\n",
    "\n",
    "    (expression for i in s if cond1\n",
    "                for j in t if cond2\n",
    "                ...\n",
    "                if condfinal)\n",
    "\n",
    "## Meaning\n",
    "\n",
    "    for i in s:\n",
    "        if cond1:\n",
    "            for j in t:\n",
    "                if cond2:\n",
    "                    ...\n",
    "                    if condfinal: \n",
    "                        yield expression\n"
   ]
  },
  {
   "cell_type": "code",
   "execution_count": 3,
   "metadata": {
    "collapsed": true
   },
   "outputs": [],
   "source": [
    "l1 = [i*3 for i in range(0,10) if i % 2 == 0]\n",
    "l2 = (i*3 for i in range(0,10) if i % 2 == 0)"
   ]
  },
  {
   "cell_type": "code",
   "execution_count": 4,
   "metadata": {
    "collapsed": false
   },
   "outputs": [
    {
     "data": {
      "text/plain": [
       "5"
      ]
     },
     "execution_count": 4,
     "metadata": {},
     "output_type": "execute_result"
    }
   ],
   "source": [
    "len(l1)"
   ]
  },
  {
   "cell_type": "code",
   "execution_count": 5,
   "metadata": {
    "collapsed": false
   },
   "outputs": [
    {
     "ename": "TypeError",
     "evalue": "object of type 'generator' has no len()",
     "output_type": "error",
     "traceback": [
      "\u001b[0;31m---------------------------------------------------------------------------\u001b[0m",
      "\u001b[0;31mTypeError\u001b[0m                                 Traceback (most recent call last)",
      "\u001b[0;32m<ipython-input-5-d6c9a6b1dc53>\u001b[0m in \u001b[0;36m<module>\u001b[0;34m()\u001b[0m\n\u001b[0;32m----> 1\u001b[0;31m \u001b[0mlen\u001b[0m\u001b[0;34m(\u001b[0m\u001b[0ml2\u001b[0m\u001b[0;34m)\u001b[0m\u001b[0;34m\u001b[0m\u001b[0m\n\u001b[0m",
      "\u001b[0;31mTypeError\u001b[0m: object of type 'generator' has no len()"
     ]
    }
   ],
   "source": [
    "len(l2)"
   ]
  },
  {
   "cell_type": "markdown",
   "metadata": {},
   "source": [
    "## Ex1: sum of all odd numbers under 5000\n"
   ]
  },
  {
   "cell_type": "code",
   "execution_count": 6,
   "metadata": {
    "collapsed": false
   },
   "outputs": [
    {
     "data": {
      "text/plain": [
       "6250000"
      ]
     },
     "execution_count": 6,
     "metadata": {},
     "output_type": "execute_result"
    }
   ],
   "source": [
    "def odd_numbers(threshold):\n",
    "    i = 1\n",
    "    while i < threshold:\n",
    "        if i % 2 == 1:\n",
    "            yield i\n",
    "        i += 1\n",
    "\n",
    "sum(odd_numbers(5000))\n",
    "\n",
    "\n",
    "\n",
    "\n",
    "\n",
    "\n"
   ]
  },
  {
   "cell_type": "code",
   "execution_count": 7,
   "metadata": {
    "collapsed": false
   },
   "outputs": [
    {
     "data": {
      "text/plain": [
       "6250000"
      ]
     },
     "execution_count": 7,
     "metadata": {},
     "output_type": "execute_result"
    }
   ],
   "source": [
    "sum((x for x in range(1,5000) if x % 2 == 1))\n",
    "\n",
    "\n",
    "\n",
    "\n"
   ]
  },
  {
   "cell_type": "code",
   "execution_count": 8,
   "metadata": {
    "collapsed": false
   },
   "outputs": [
    {
     "data": {
      "text/plain": [
       "6250000"
      ]
     },
     "execution_count": 8,
     "metadata": {},
     "output_type": "execute_result"
    }
   ],
   "source": [
    "sum(x for x in range(1,5000) if x % 2 == 1)"
   ]
  },
  {
   "cell_type": "markdown",
   "metadata": {},
   "source": [
    "## BTW what is range?\n",
    "function? NO!\n",
    "\n",
    "\"The range type represents an immutable sequence of numbers and is commonly used for looping a specific number of times in for loops.\"\n",
    "\n",
    "\"The advantage of the range type over a regular list or tuple is that a range object will always take the same (small) amount of memory, no matter the size of the range it represents (as it only stores the start, stop and step values, calculating individual items and subranges as needed).\"\n",
    "\n",
    "[https://docs.python.org/3/library/stdtypes.html#typesseq-range]"
   ]
  },
  {
   "cell_type": "code",
   "execution_count": 9,
   "metadata": {
    "collapsed": false
   },
   "outputs": [],
   "source": [
    "r1 = range(0,10)"
   ]
  },
  {
   "cell_type": "code",
   "execution_count": 10,
   "metadata": {
    "collapsed": false
   },
   "outputs": [
    {
     "data": {
      "text/plain": [
       "['__class__',\n",
       " '__contains__',\n",
       " '__delattr__',\n",
       " '__dir__',\n",
       " '__doc__',\n",
       " '__eq__',\n",
       " '__format__',\n",
       " '__ge__',\n",
       " '__getattribute__',\n",
       " '__getitem__',\n",
       " '__gt__',\n",
       " '__hash__',\n",
       " '__init__',\n",
       " '__iter__',\n",
       " '__le__',\n",
       " '__len__',\n",
       " '__lt__',\n",
       " '__ne__',\n",
       " '__new__',\n",
       " '__reduce__',\n",
       " '__reduce_ex__',\n",
       " '__repr__',\n",
       " '__reversed__',\n",
       " '__setattr__',\n",
       " '__sizeof__',\n",
       " '__str__',\n",
       " '__subclasshook__',\n",
       " 'count',\n",
       " 'index',\n",
       " 'start',\n",
       " 'step',\n",
       " 'stop']"
      ]
     },
     "execution_count": 10,
     "metadata": {},
     "output_type": "execute_result"
    }
   ],
   "source": [
    "dir(r1)"
   ]
  },
  {
   "cell_type": "code",
   "execution_count": 11,
   "metadata": {
    "collapsed": false
   },
   "outputs": [
    {
     "data": {
      "text/plain": [
       "<range_iterator at 0x10fea6a20>"
      ]
     },
     "execution_count": 11,
     "metadata": {},
     "output_type": "execute_result"
    }
   ],
   "source": [
    "iter(r1)"
   ]
  },
  {
   "cell_type": "markdown",
   "metadata": {},
   "source": [
    "## Ex2: Count the letters in hungarian towns with zipcode 3XXX\n",
    "\n",
    "- cat hu_zipcodes.txt|head\n",
    "\n",
    "\n",
    "        2000\tSzentendre\n",
    "        2009\tPilisszentlászló\n",
    "        2011\tBudakalász\n",
    "        2013\tPomáz\n",
    "        2014\tCsobánka\n",
    "        2015\tSzigetmonostor\n",
    "        2016\tLeányfalu\n",
    "        2017\tPócsmegyer\n",
    "        2021\tTahitótfalu\tTótfalu\n",
    "        2022\tTahitótfalu\tTahi\n",
    "\n",
    "- empty or blank lines in file!\n",
    "- just the second word counts!\n"
   ]
  },
  {
   "cell_type": "code",
   "execution_count": 14,
   "metadata": {
    "collapsed": false
   },
   "outputs": [],
   "source": [
    "def hu_zipcodes1():\n",
    "    sum_ = 0\n",
    "    with open(\"hu_zipcodes.txt\", \"r\") as zfile:\n",
    "        for line in zfile:\n",
    "            words = line.split()\n",
    "            if len(words) > 1:\n",
    "                if words[0].startswith(\"3\"):\n",
    "                    sum_ += len(words[1])\n",
    "    return sum_  # aaaarrrrrr...\n",
    "\n",
    "\n",
    "\n",
    "\n",
    "\n",
    "\n",
    "\n",
    "\n",
    "\n",
    "\n"
   ]
  },
  {
   "cell_type": "code",
   "execution_count": 13,
   "metadata": {
    "collapsed": false
   },
   "outputs": [
    {
     "data": {
      "text/plain": [
       "5033"
      ]
     },
     "execution_count": 13,
     "metadata": {},
     "output_type": "execute_result"
    }
   ],
   "source": [
    "hu_zipcodes1()"
   ]
  },
  {
   "cell_type": "code",
   "execution_count": 15,
   "metadata": {
    "collapsed": false
   },
   "outputs": [
    {
     "data": {
      "text/plain": [
       "5033"
      ]
     },
     "execution_count": 15,
     "metadata": {},
     "output_type": "execute_result"
    }
   ],
   "source": [
    "def hu_zipcodes2():\n",
    "    lines = open(\"hu_zipcodes.txt\", \"r\")\n",
    "    splitted_lines = (line.split() for line in lines)\n",
    "    not_empty_splitted_lines = (words for words in splitted_lines if len(words) > 1)\n",
    "    z3xxx_town_names = (words[1] for words in not_empty_splitted_lines if words[0].startswith(\"3\"))\n",
    "    z3xxx_town_lenghts = (len(t) for t in z3xxx_town_names)\n",
    "    return sum(z3xxx_town_lenghts)\n",
    "\n",
    "hu_zipcodes2()\n",
    "\n",
    "\n",
    "\n",
    "\n",
    "\n",
    "\n",
    "\n",
    "\n",
    "\n"
   ]
  },
  {
   "cell_type": "code",
   "execution_count": 16,
   "metadata": {
    "collapsed": false
   },
   "outputs": [
    {
     "data": {
      "text/plain": [
       "5033"
      ]
     },
     "execution_count": 16,
     "metadata": {},
     "output_type": "execute_result"
    }
   ],
   "source": [
    "def hu_zipcodes3():\n",
    "    not_empty_splitted_lines = (words\n",
    "                                for words in (line.split() \n",
    "                                              for line in open(\"hu_zipcodes.txt\", \"r\"))\n",
    "                                if len(words) > 1)\n",
    "    z3xxx_town_names = (words[1] for words in not_empty_splitted_lines if words[0].startswith(\"3\"))\n",
    "    return sum(len(t) for t in z3xxx_town_names)\n",
    "\n",
    "hu_zipcodes3()\n",
    "\n",
    "\n",
    "\n",
    "\n",
    "\n",
    "\n",
    "\n"
   ]
  },
  {
   "cell_type": "code",
   "execution_count": 17,
   "metadata": {
    "collapsed": false
   },
   "outputs": [
    {
     "data": {
      "text/plain": [
       "5033"
      ]
     },
     "execution_count": 17,
     "metadata": {},
     "output_type": "execute_result"
    }
   ],
   "source": [
    "def hu_zipcodes4():\n",
    "    return sum(\n",
    "        len(words[1])\n",
    "        for words in (line.split()\n",
    "                      for line in open(\"hu_zipcodes.txt\", \"r\"))\n",
    "        if len(words) > 1 and words[0].startswith(\"3\"))\n",
    "\n",
    "hu_zipcodes4()\n",
    "\n",
    "\n",
    "\n",
    "\n",
    "\n"
   ]
  },
  {
   "cell_type": "markdown",
   "metadata": {},
   "source": [
    "## Ex3: remove duplicate town names before sum! How?!"
   ]
  },
  {
   "cell_type": "code",
   "execution_count": 18,
   "metadata": {
    "collapsed": false
   },
   "outputs": [
    {
     "data": {
      "text/plain": [
       "5033"
      ]
     },
     "execution_count": 18,
     "metadata": {},
     "output_type": "execute_result"
    }
   ],
   "source": [
    "def sumlen(strs):\n",
    "    return sum(len(s) for s in strs)\n",
    "\n",
    "\n",
    "def hu_zipcodes5():\n",
    "    return sumlen(words[1]\n",
    "                  for words in (line.split()\n",
    "                                for line in open(\"hu_zipcodes.txt\", \"r\"))\n",
    "                  if len(words) > 1 and words[0].startswith(\"3\"))\n",
    "\n",
    "hu_zipcodes5()\n",
    "\n"
   ]
  },
  {
   "cell_type": "code",
   "execution_count": 19,
   "metadata": {
    "collapsed": false
   },
   "outputs": [
    {
     "data": {
      "text/plain": [
       "4743"
      ]
     },
     "execution_count": 19,
     "metadata": {},
     "output_type": "execute_result"
    }
   ],
   "source": [
    "def usumlen(strs):\n",
    "    # keeps order!!!\n",
    "    _olds = []\n",
    "    def _s_is_new(s):\n",
    "        if s not in _olds:\n",
    "            _olds.append(s)\n",
    "            return True\n",
    "        else:\n",
    "            return False\n",
    "    return sum(len(s) for s in strs if _s_is_new(s))\n",
    "\n",
    "\n",
    "def usumlen2(strs):\n",
    "    # lost order!!!\n",
    "    return sum(len(s) for s in set(strs))\n",
    "\n",
    "\n",
    "def hu_zipcodes6():\n",
    "    return usumlen2(words[1]\n",
    "                  for words in (line.split()\n",
    "                                for line in open(\"hu_zipcodes.txt\", \"r\"))\n",
    "                  if len(words) > 1 and words[0].startswith(\"3\"))\n",
    "\n",
    "hu_zipcodes6()\n",
    "\n",
    "\n",
    "\n",
    "\n",
    "\n",
    "\n",
    "\n",
    "\n"
   ]
  },
  {
   "cell_type": "code",
   "execution_count": null,
   "metadata": {
    "collapsed": true
   },
   "outputs": [],
   "source": []
  },
  {
   "cell_type": "code",
   "execution_count": null,
   "metadata": {
    "collapsed": true
   },
   "outputs": [],
   "source": []
  }
 ],
 "metadata": {
  "kernelspec": {
   "display_name": "Python 3",
   "language": "python",
   "name": "python3"
  },
  "language_info": {
   "codemirror_mode": {
    "name": "ipython",
    "version": 3
   },
   "file_extension": ".py",
   "mimetype": "text/x-python",
   "name": "python",
   "nbconvert_exporter": "python",
   "pygments_lexer": "ipython3",
   "version": "3.4.3"
  }
 },
 "nbformat": 4,
 "nbformat_minor": 0
}
