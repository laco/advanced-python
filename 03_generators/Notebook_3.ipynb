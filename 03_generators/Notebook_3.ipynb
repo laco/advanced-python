{
 "cells": [
  {
   "cell_type": "code",
   "execution_count": null,
   "metadata": {
    "collapsed": true
   },
   "outputs": [],
   "source": [
    "import time"
   ]
  },
  {
   "cell_type": "markdown",
   "metadata": {},
   "source": [
    "# Generators III. based on David Beazley's slides"
   ]
  },
  {
   "cell_type": "markdown",
   "metadata": {},
   "source": [
    "#  Euler 1\n",
    "If we list all the natural numbers below 10 that are multiples of 3 or 5, we get 3, 5, 6 and 9. The sum of these multiples is 23.\n",
    "\n",
    "Find the sum of all the multiples of 3 or 5 below 1000."
   ]
  },
  {
   "cell_type": "code",
   "execution_count": null,
   "metadata": {
    "collapsed": false
   },
   "outputs": [],
   "source": [
    "def gen():\n",
    "    i = 0\n",
    "    while i < 1000:\n",
    "        if i % 3 == 0 or i % 5 == 0:\n",
    "            yield i\n",
    "        i += 1\n",
    "\n",
    "\n",
    "print(sum(gen()))"
   ]
  },
  {
   "cell_type": "markdown",
   "metadata": {},
   "source": [
    "## Euler 9\n",
    "Special Pythagorean triplet\n",
    "\n",
    "A Pythagorean triplet is a set of three natural numbers, a < b < c, for which,\n",
    "a2 + b2 = c2\n",
    "\n",
    "For example, 32 + 42 = 9 + 16 = 25 = 52.\n",
    "\n",
    "There exists exactly one Pythagorean triplet for which a + b + c = 1000.\n",
    "Find the product abc."
   ]
  },
  {
   "cell_type": "code",
   "execution_count": null,
   "metadata": {
    "collapsed": false
   },
   "outputs": [],
   "source": [
    "def abc_1000():\n",
    "    for a in range(1, 500):\n",
    "        for b in range(1, 1000-a):\n",
    "            yield a, b, 1000 - a - b\n",
    "\n",
    "options = list(abc_1000())\n",
    "for o in options:\n",
    "    assert o[0] + o[1] + o[2] == 1000\n",
    "\n",
    "\n",
    "for a, b, c in abc_1000():\n",
    "    if a < b and b < c and a*a + b*b == c*c:\n",
    "        print(a, b, c, a*b*c)\n"
   ]
  },
  {
   "cell_type": "markdown",
   "metadata": {},
   "source": [
    "## Euler 10\n",
    "Summation of primes\n",
    "\n",
    "The sum of the primes below 10 is 2 + 3 + 5 + 7 = 17.\n",
    "Find the sum of all the primes below two million."
   ]
  },
  {
   "cell_type": "code",
   "execution_count": null,
   "metadata": {
    "collapsed": false
   },
   "outputs": [],
   "source": [
    "def is_prime(n):\n",
    "    if n < 2:\n",
    "        return False\n",
    "    if n % 2 == 0:\n",
    "        return n == 2\n",
    "    k = 3\n",
    "    while k*k <= n:\n",
    "        if n % k == 0:\n",
    "            return False\n",
    "        k += 2\n",
    "    return True\n",
    "\n",
    "\n",
    "def primes(smaller_than):\n",
    "    for i in range(2, 2*1000*1000):\n",
    "        if is_prime(i):\n",
    "            yield i\n",
    "\n",
    "print(sum(primes(2*1000*1000)))"
   ]
  },
  {
   "cell_type": "code",
   "execution_count": null,
   "metadata": {
    "collapsed": false
   },
   "outputs": [],
   "source": [
    "# Euler 13\n",
    "# Work out the first ten digits of the sum of the following one-hundred 50-digit numbers.\n",
    "\n",
    "nums = [\n",
    "    37107287533902102798797998220837590246510135740250,\n",
    "    46376937677490009712648124896970078050417018260538,\n",
    "    74324986199524741059474233309513058123726617309629,\n",
    "    91942213363574161572522430563301811072406154908250,\n",
    "    23067588207539346171171980310421047513778063246676,\n",
    "    89261670696623633820136378418383684178734361726757,\n",
    "    28112879812849979408065481931592621691275889832738,\n",
    "    44274228917432520321923589422876796487670272189318,\n",
    "    47451445736001306439091167216856844588711603153276,\n",
    "    70386486105843025439939619828917593665686757934951,\n",
    "    62176457141856560629502157223196586755079324193331,\n",
    "    64906352462741904929101432445813822663347944758178,\n",
    "    92575867718337217661963751590579239728245598838407,\n",
    "    58203565325359399008402633568948830189458628227828,\n",
    "    80181199384826282014278194139940567587151170094390,\n",
    "    35398664372827112653829987240784473053190104293586,\n",
    "    86515506006295864861532075273371959191420517255829,\n",
    "    71693888707715466499115593487603532921714970056938,\n",
    "    54370070576826684624621495650076471787294438377604,\n",
    "    53282654108756828443191190634694037855217779295145,\n",
    "    36123272525000296071075082563815656710885258350721,\n",
    "    45876576172410976447339110607218265236877223636045,\n",
    "    17423706905851860660448207621209813287860733969412,\n",
    "    81142660418086830619328460811191061556940512689692,\n",
    "    51934325451728388641918047049293215058642563049483,\n",
    "    62467221648435076201727918039944693004732956340691,\n",
    "    15732444386908125794514089057706229429197107928209,\n",
    "    55037687525678773091862540744969844508330393682126,\n",
    "    18336384825330154686196124348767681297534375946515,\n",
    "    80386287592878490201521685554828717201219257766954,\n",
    "    78182833757993103614740356856449095527097864797581,\n",
    "    16726320100436897842553539920931837441497806860984,\n",
    "    48403098129077791799088218795327364475675590848030,\n",
    "    87086987551392711854517078544161852424320693150332,\n",
    "    59959406895756536782107074926966537676326235447210,\n",
    "    69793950679652694742597709739166693763042633987085,\n",
    "    41052684708299085211399427365734116182760315001271,\n",
    "    65378607361501080857009149939512557028198746004375,\n",
    "    35829035317434717326932123578154982629742552737307,\n",
    "    94953759765105305946966067683156574377167401875275,\n",
    "    88902802571733229619176668713819931811048770190271,\n",
    "    25267680276078003013678680992525463401061632866526,\n",
    "    36270218540497705585629946580636237993140746255962,\n",
    "    24074486908231174977792365466257246923322810917141,\n",
    "    91430288197103288597806669760892938638285025333403,\n",
    "    34413065578016127815921815005561868836468420090470,\n",
    "    23053081172816430487623791969842487255036638784583,\n",
    "    11487696932154902810424020138335124462181441773470,\n",
    "    63783299490636259666498587618221225225512486764533,\n",
    "    67720186971698544312419572409913959008952310058822,\n",
    "    95548255300263520781532296796249481641953868218774,\n",
    "    76085327132285723110424803456124867697064507995236,\n",
    "    37774242535411291684276865538926205024910326572967,\n",
    "    23701913275725675285653248258265463092207058596522,\n",
    "    29798860272258331913126375147341994889534765745501,\n",
    "    18495701454879288984856827726077713721403798879715,\n",
    "    38298203783031473527721580348144513491373226651381,\n",
    "    34829543829199918180278916522431027392251122869539,\n",
    "    40957953066405232632538044100059654939159879593635,\n",
    "    29746152185502371307642255121183693803580388584903,\n",
    "    41698116222072977186158236678424689157993532961922,\n",
    "    62467957194401269043877107275048102390895523597457,\n",
    "    23189706772547915061505504953922979530901129967519,\n",
    "    86188088225875314529584099251203829009407770775672,\n",
    "    11306739708304724483816533873502340845647058077308,\n",
    "    82959174767140363198008187129011875491310547126581,\n",
    "    97623331044818386269515456334926366572897563400500,\n",
    "    42846280183517070527831839425882145521227251250327,\n",
    "    55121603546981200581762165212827652751691296897789,\n",
    "    32238195734329339946437501907836945765883352399886,\n",
    "    75506164965184775180738168837861091527357929701337,\n",
    "    62177842752192623401942399639168044983993173312731,\n",
    "    32924185707147349566916674687634660915035914677504,\n",
    "    99518671430235219628894890102423325116913619626622,\n",
    "    73267460800591547471830798392868535206946944540724,\n",
    "    76841822524674417161514036427982273348055556214818,\n",
    "    97142617910342598647204516893989422179826088076852,\n",
    "    87783646182799346313767754307809363333018982642090,\n",
    "    10848802521674670883215120185883543223812876952786,\n",
    "    71329612474782464538636993009049310363619763878039,\n",
    "    62184073572399794223406235393808339651327408011116,\n",
    "    66627891981488087797941876876144230030984490851411,\n",
    "    60661826293682836764744779239180335110989069790714,\n",
    "    85786944089552990653640447425576083659976645795096,\n",
    "    66024396409905389607120198219976047599490197230297,\n",
    "    64913982680032973156037120041377903785566085089252,\n",
    "    16730939319872750275468906903707539413042652315011,\n",
    "    94809377245048795150954100921645863754710598436791,\n",
    "    78639167021187492431995700641917969777599028300699,\n",
    "    15368713711936614952811305876380278410754449733078,\n",
    "    40789923115535562561142322423255033685442488917353,\n",
    "    44889911501440648020369068063960672322193204149535,\n",
    "    41503128880339536053299340368006977710650566631954,\n",
    "    81234880673210146739058568557934581403627822703280,\n",
    "    82616570773948327592232845941706525094512325230608,\n",
    "    22918802058777319719839450180888072429661980811197,\n",
    "    77158542502016545090413245809786882778948721859617,\n",
    "    72107838435069186155435662884062257473692284509516,\n",
    "    20849603980134001723930671666823555245252804609722,\n",
    "    53503534226472524250874054075591789781264330331690,\n",
    "]\n",
    "\n",
    "str(sum(nums))[:10]"
   ]
  },
  {
   "cell_type": "markdown",
   "metadata": {},
   "source": [
    "## Coroutines\n",
    "- In Python 2.5, generators picked up some new features to allow \"coroutines\" (PEP-342).\n",
    "- Most notably: a new send() method\n"
   ]
  },
  {
   "cell_type": "code",
   "execution_count": null,
   "metadata": {
    "collapsed": false
   },
   "outputs": [],
   "source": [
    "def follow(thefile):\n",
    "    thefile.seek(0,2) # Go to the end of the file\n",
    "    while True:\n",
    "        line = thefile.readline()\n",
    "        if not line:\n",
    "            time.sleep(0.1) # Sleep briefly\n",
    "            continue\n",
    "        yield line\n",
    "\n",
    "logfile = open(\"/var/log/wifi.log\")\n",
    "for line in follow(logfile):\n",
    "    print(line)"
   ]
  },
  {
   "cell_type": "code",
   "execution_count": null,
   "metadata": {
    "collapsed": true
   },
   "outputs": [],
   "source": [
    "def grep(pattern,lines):\n",
    "    for line in lines:\n",
    "        if pattern in line:\n",
    "            yield line"
   ]
  },
  {
   "cell_type": "code",
   "execution_count": null,
   "metadata": {
    "collapsed": false
   },
   "outputs": [],
   "source": [
    "logfile = open(\"/var/log/wifi.log\")\n",
    "loglines = follow(logfile)\n",
    "lines = grep(\"kernel\",loglines)\n",
    "for line in lines:\n",
    "    print(line)"
   ]
  },
  {
   "cell_type": "code",
   "execution_count": null,
   "metadata": {
    "collapsed": false
   },
   "outputs": [],
   "source": [
    "# Yield as an Expression\n",
    "def grep(pattern):\n",
    "    print(\"Looking for %s\" % pattern)\n",
    "    while True:\n",
    "        line = (yield)\n",
    "        if pattern in line:\n",
    "            print('found \\'{}\\' in:'.format(pattern), line)\n",
    "\n",
    "g = grep(\"python\")\n",
    "next(g)\n",
    "g.send(\"Yeah, but no, but yeah, but no\")\n",
    "g.send(\"A series of tubes\")"
   ]
  },
  {
   "cell_type": "code",
   "execution_count": null,
   "metadata": {
    "collapsed": false
   },
   "outputs": [],
   "source": [
    "g.send(\"python generators rock!\")"
   ]
  },
  {
   "cell_type": "code",
   "execution_count": null,
   "metadata": {
    "collapsed": true
   },
   "outputs": [],
   "source": [
    "def coroutine(func):\n",
    "    def start(*args,**kwargs):\n",
    "         cr = func(*args,**kwargs)\n",
    "         next(cr)\n",
    "         return cr\n",
    "    return start"
   ]
  },
  {
   "cell_type": "code",
   "execution_count": null,
   "metadata": {
    "collapsed": true
   },
   "outputs": [],
   "source": [
    "@coroutine\n",
    "def prefix_print(prefix):\n",
    "    while True:\n",
    "        value = yield\n",
    "        print(\"{}{}\".format(prefix, value))\n"
   ]
  },
  {
   "cell_type": "code",
   "execution_count": null,
   "metadata": {
    "collapsed": false
   },
   "outputs": [],
   "source": [
    "pp = prefix_print(2)"
   ]
  },
  {
   "cell_type": "code",
   "execution_count": null,
   "metadata": {
    "collapsed": false
   },
   "outputs": [],
   "source": [
    "pp.send(2)"
   ]
  },
  {
   "cell_type": "markdown",
   "metadata": {},
   "source": [
    "## Exercise 1\n",
    "Write a coroutine that prints out \"prime\" if the sended value is prime\n",
    "\n",
    "## Exercise 2\n",
    "double_me.send(10) == 20"
   ]
  },
  {
   "cell_type": "code",
   "execution_count": null,
   "metadata": {
    "collapsed": true
   },
   "outputs": [],
   "source": [
    "@coroutine\n",
    "def print_if_prime():\n",
    "    while True:\n",
    "        value = yield\n",
    "        if is_prime(value):\n",
    "            print(\"prime\")\n",
    "\n",
    "@coroutine\n",
    "def double_me_generator():\n",
    "    value = 0\n",
    "    while True:\n",
    "        value = yield value * 2\n",
    "\n"
   ]
  },
  {
   "cell_type": "code",
   "execution_count": null,
   "metadata": {
    "collapsed": true
   },
   "outputs": [],
   "source": [
    "p_if_prime = print_if_prime()\n",
    "double_me = double_me_generator()"
   ]
  },
  {
   "cell_type": "code",
   "execution_count": null,
   "metadata": {
    "collapsed": false
   },
   "outputs": [],
   "source": [
    "p_if_prime.send(17)"
   ]
  },
  {
   "cell_type": "code",
   "execution_count": null,
   "metadata": {
    "collapsed": false
   },
   "outputs": [],
   "source": [
    "p_if_prime.send(20)\n",
    "x = p_if_prime.send(30)\n",
    "print(x)"
   ]
  },
  {
   "cell_type": "code",
   "execution_count": null,
   "metadata": {
    "collapsed": false
   },
   "outputs": [],
   "source": [
    "double_me.send(10)"
   ]
  },
  {
   "cell_type": "markdown",
   "metadata": {},
   "source": [
    "## Exercise 3\n",
    "Implement the my_sum coroutine.\n",
    "\n",
    "    my_sum = my_sum_gen(start=0)\n",
    "    my_sum.send(2) == 2\n",
    "    my_sum.send(5) == 7\n"
   ]
  },
  {
   "cell_type": "code",
   "execution_count": null,
   "metadata": {
    "collapsed": true
   },
   "outputs": [],
   "source": [
    "@coroutine\n",
    "def my_sum_gen(start=0):\n",
    "    value = start\n",
    "    while True:\n",
    "        new_ = yield value\n",
    "        value += new_"
   ]
  },
  {
   "cell_type": "code",
   "execution_count": null,
   "metadata": {
    "collapsed": true
   },
   "outputs": [],
   "source": [
    "my_sum = my_sum_gen(start=0)"
   ]
  },
  {
   "cell_type": "code",
   "execution_count": null,
   "metadata": {
    "collapsed": false
   },
   "outputs": [],
   "source": [
    "my_sum.send(2) == 2"
   ]
  },
  {
   "cell_type": "code",
   "execution_count": null,
   "metadata": {
    "collapsed": false
   },
   "outputs": [],
   "source": [
    "my_sum.send(5) == 7"
   ]
  },
  {
   "cell_type": "markdown",
   "metadata": {},
   "source": [
    "## next(generator)  is generator.send(None)"
   ]
  },
  {
   "cell_type": "code",
   "execution_count": null,
   "metadata": {
    "collapsed": true
   },
   "outputs": [],
   "source": [
    "def sample_gen():\n",
    "    i = 0\n",
    "    x = 'X'\n",
    "    while i < 10:\n",
    "        n_ = yield x\n",
    "        x = '_'.join([x, str(n_ or 'X')])\n",
    "        i += 1"
   ]
  },
  {
   "cell_type": "code",
   "execution_count": null,
   "metadata": {
    "collapsed": true
   },
   "outputs": [],
   "source": [
    "s = sample_gen()"
   ]
  },
  {
   "cell_type": "code",
   "execution_count": null,
   "metadata": {
    "collapsed": false
   },
   "outputs": [],
   "source": [
    "s.send(None)"
   ]
  },
  {
   "cell_type": "code",
   "execution_count": null,
   "metadata": {
    "collapsed": false
   },
   "outputs": [],
   "source": [
    "s.send(None)"
   ]
  },
  {
   "cell_type": "code",
   "execution_count": null,
   "metadata": {
    "collapsed": false
   },
   "outputs": [],
   "source": [
    "for i in range(1, 8):\n",
    "    print(s.send(i))"
   ]
  },
  {
   "cell_type": "markdown",
   "metadata": {},
   "source": [
    "## More send example"
   ]
  },
  {
   "cell_type": "code",
   "execution_count": null,
   "metadata": {
    "collapsed": false
   },
   "outputs": [],
   "source": [
    "@coroutine\n",
    "def grep(pattern,target):\n",
    "    while True:\n",
    "        line = (yield) # Receive a line\n",
    "        if pattern in line:\n",
    "            target.send(line) # Send to next stage\n",
    "\n",
    "\n",
    "@coroutine\n",
    "def printer():\n",
    "    while True:\n",
    "        line = (yield)\n",
    "        print(line)\n",
    "\n",
    "def follow(thefile, target):\n",
    "    thefile.seek(0,2) # Go to the end of the file\n",
    "    while True:\n",
    "        line = thefile.readline()\n",
    "        if not line:\n",
    "            time.sleep(0.1) # Sleep briefly\n",
    "            continue\n",
    "        target.send(line)\n",
    "    \n",
    "f = open(\"sample_log\")\n",
    "follow(f, grep('python', printer()))"
   ]
  },
  {
   "cell_type": "code",
   "execution_count": null,
   "metadata": {
    "collapsed": true
   },
   "outputs": [],
   "source": []
  }
 ],
 "metadata": {
  "kernelspec": {
   "display_name": "Python 3",
   "language": "python",
   "name": "python3"
  },
  "language_info": {
   "codemirror_mode": {
    "name": "ipython",
    "version": 3
   },
   "file_extension": ".py",
   "mimetype": "text/x-python",
   "name": "python",
   "nbconvert_exporter": "python",
   "pygments_lexer": "ipython3",
   "version": "3.4.3"
  }
 },
 "nbformat": 4,
 "nbformat_minor": 0
}
